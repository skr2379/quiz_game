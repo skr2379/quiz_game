{
  "nbformat": 4,
  "nbformat_minor": 0,
  "metadata": {
    "colab": {
      "name": "quiz_game.ipynb",
      "provenance": []
    },
    "kernelspec": {
      "name": "python3",
      "display_name": "Python 3"
    },
    "language_info": {
      "name": "python"
    }
  },
  "cells": [
    {
      "cell_type": "code",
      "metadata": {
        "id": "4R1bVWRghBfG"
      },
      "source": [
        "# Quiz_game--- in this game we have a \n",
        "# 1. list -- question_data ------- used for the question answer bank\n",
        "# 2. class -- Question -----  used to create a new question from question_bank.\n",
        "# 3. class -- Quiz ---- to control the functioning of quiz\n",
        "#             a) __init__ function ----- to initalize the score and question number\n",
        "#             b) question_to_player function ------- to ask a new question from question_bank\n",
        "#             c) quiz_continue  function  ------ to decide that quiz has been completed or not\n",
        "#             d) player_score  function   ------- to calculate player score and increment for every correct answer.\n",
        "\n",
        "# 4. while loop to run the quiz until quiz_continue status is True."
      ],
      "execution_count": 77,
      "outputs": []
    },
    {
      "cell_type": "code",
      "metadata": {
        "id": "_hsdOd9UiZo1"
      },
      "source": [
        "question_data = [\n",
        "{\"text\": \"A slug's blood is green.\", \"answer\": \"True\"},\n",
        "{\"text\": \"The loudest animal is the African Elephant.\", \"answer\": \"False\"},\n",
        "{\"text\": \"Approximately one quarter of human bones are in the feet.\", \"answer\": \"True\"},\n",
        "{\"text\": \"The total surface area of a human lungs is the size of a football pitch.\", \"answer\": \"True\"},\n",
        "{\"text\": \"In West Virginia, USA, if you accidentally hit an animal with your car, you are free to take it home to eat.\", \"answer\": \"True\"},\n",
        "{\"text\": \"In London, UK, if you happen to die in the House of Parliament, you are entitled to a state funeral.\", \"answer\": \"False\"},\n",
        "{\"text\": \"It is illegal to pee in the Ocean in Portugal.\", \"answer\": \"True\"},\n",
        "{\"text\": \"You can lead a cow down stairs but not up stairs.\", \"answer\": \"False\"},\n",
        "{\"text\": \"Google was originally called 'Backrub'.\", \"answer\": \"True\"},\n",
        "{\"text\": \"Buzz Aldrin's mother's maiden name was 'Moon'.\", \"answer\": \"True\"},\n",
        "{\"text\": \"No piece of square dry paper can be folded in half more than 7 times.\", \"answer\": \"False\"},\n",
        "{\"text\": \"A few ounces of chocolate can to kill a small dog.\", \"answer\": \"True\"}\n",
        "]"
      ],
      "execution_count": 4,
      "outputs": []
    },
    {
      "cell_type": "code",
      "metadata": {
        "id": "oCJrmBIhlNKE"
      },
      "source": [
        "class Question:\n",
        "  def __init__(self, q_question, q_answer):\n",
        "    self.q_question = q_question\n",
        "    self.q_answer = q_answer"
      ],
      "execution_count": 2,
      "outputs": []
    },
    {
      "cell_type": "code",
      "metadata": {
        "id": "1RH-4jbIFYLJ"
      },
      "source": [
        "question_bank = []\n",
        "for question in question_data:\n",
        "  question_text = question[\"text\"]\n",
        "  question_ans = question[\"answer\"]\n",
        "  new_question = Question(question_text, question_ans)\n",
        "  question_bank.append(new_question)"
      ],
      "execution_count": 7,
      "outputs": []
    },
    {
      "cell_type": "code",
      "metadata": {
        "colab": {
          "base_uri": "https://localhost:8080/"
        },
        "id": "yZsWPxK3GGIM",
        "outputId": "a08bcc46-7e44-4b7f-bdf4-c6c5d2753318"
      },
      "source": [
        "for i in range(len(question_bank)):\n",
        "  print(question_bank[i].q_question, question_bank[i].q_answer)"
      ],
      "execution_count": 17,
      "outputs": [
        {
          "output_type": "stream",
          "name": "stdout",
          "text": [
            "A slug's blood is green. True\n",
            "The loudest animal is the African Elephant. False\n",
            "Approximately one quarter of human bones are in the feet. True\n",
            "The total surface area of a human lungs is the size of a football pitch. True\n",
            "In West Virginia, USA, if you accidentally hit an animal with your car, you are free to take it home to eat. True\n",
            "In London, UK, if you happen to die in the House of Parliament, you are entitled to a state funeral. False\n",
            "It is illegal to pee in the Ocean in Portugal. True\n",
            "You can lead a cow down stairs but not up stairs. False\n",
            "Google was originally called 'Backrub'. True\n",
            "Buzz Aldrin's mother's maiden name was 'Moon'. True\n",
            "No piece of square dry paper can be folded in half more than 7 times. False\n",
            "A few ounces of chocolate can to kill a small dog. True\n"
          ]
        }
      ]
    },
    {
      "cell_type": "code",
      "metadata": {
        "id": "hhYVX0_aGM2l"
      },
      "source": [
        "class Quiz:\n",
        "  def __init__(self, question_list):\n",
        "    self.score = 0\n",
        "    self.question_number = 0\n",
        "    self.question_list = question_list\n",
        "\n",
        "  def questin_to_player(self):\n",
        "    self.player_question = self.question_list[self.question_number]\n",
        "    self.question_number = self.question_number + 1\n",
        "    self.player_answer = input(f\"Q{self.question_number}. {self.player_question.q_question}  True/ False :\\t\")\n",
        "\n",
        "  def quiz_continue(self):\n",
        "     \n",
        "    if len(self.question_list) > self.question_number:\n",
        "      self.status = True\n",
        "      # print(\"self.status\",self.status)\n",
        "    else:\n",
        "      self.status = False\n",
        "      # print(\"self.status\",self.status)\n",
        "    return self.status\n",
        "\n",
        "  def player_score(self):\n",
        "    if (self.player_answer).lower() == (self.player_question.q_answer).lower():\n",
        "      self.score += 1\n",
        "    else:\n",
        "      pass\n",
        "    # print(f\"your score is {self.score}/ {self.question_number}\\n\")\n",
        "    \n",
        "    return self.score\n",
        "\n"
      ],
      "execution_count": 74,
      "outputs": []
    },
    {
      "cell_type": "code",
      "metadata": {
        "id": "cRbPaHtpJXeJ"
      },
      "source": [
        "quiz = Quiz(question_bank)"
      ],
      "execution_count": 75,
      "outputs": []
    },
    {
      "cell_type": "code",
      "metadata": {
        "colab": {
          "base_uri": "https://localhost:8080/"
        },
        "id": "JlSv7UjpLKUs",
        "outputId": "8868df23-915b-4d7f-9640-c004fad387b3"
      },
      "source": [
        "while quiz.quiz_continue():\n",
        "  quiz.questin_to_player()\n",
        "  quiz.player_score()\n",
        "  print(f\"your score is {quiz.score}/ {quiz.question_number}\")\n",
        "  print(f\"correct answer was : {quiz.player_question.q_answer}\\n\")\n",
        "\n",
        "print(\"quiz finished\")\n",
        "print(\"your final score is :\",\" \",quiz.score)"
      ],
      "execution_count": 76,
      "outputs": [
        {
          "output_type": "stream",
          "name": "stdout",
          "text": [
            "Q1. A slug's blood is green.  True/ False :\ttrue\n",
            "your score is 1/ 1\n",
            "correct answer was : True\n",
            "\n",
            "Q2. The loudest animal is the African Elephant.  True/ False :\ttrue\n",
            "your score is 1/ 2\n",
            "correct answer was : False\n",
            "\n",
            "Q3. Approximately one quarter of human bones are in the feet.  True/ False :\ttrue\n",
            "your score is 2/ 3\n",
            "correct answer was : True\n",
            "\n",
            "Q4. The total surface area of a human lungs is the size of a football pitch.  True/ False :\ttrue\n",
            "your score is 3/ 4\n",
            "correct answer was : True\n",
            "\n",
            "Q5. In West Virginia, USA, if you accidentally hit an animal with your car, you are free to take it home to eat.  True/ False :\ttrue\n",
            "your score is 4/ 5\n",
            "correct answer was : True\n",
            "\n",
            "Q6. In London, UK, if you happen to die in the House of Parliament, you are entitled to a state funeral.  True/ False :\ttrue\n",
            "your score is 4/ 6\n",
            "correct answer was : False\n",
            "\n",
            "Q7. It is illegal to pee in the Ocean in Portugal.  True/ False :\ttrue\n",
            "your score is 5/ 7\n",
            "correct answer was : True\n",
            "\n",
            "Q8. You can lead a cow down stairs but not up stairs.  True/ False :\tfalse\n",
            "your score is 6/ 8\n",
            "correct answer was : False\n",
            "\n",
            "Q9. Google was originally called 'Backrub'.  True/ False :\ttrue\n",
            "your score is 7/ 9\n",
            "correct answer was : True\n",
            "\n",
            "Q10. Buzz Aldrin's mother's maiden name was 'Moon'.  True/ False :\ttrue\n",
            "your score is 8/ 10\n",
            "correct answer was : True\n",
            "\n",
            "Q11. No piece of square dry paper can be folded in half more than 7 times.  True/ False :\tfalse\n",
            "your score is 9/ 11\n",
            "correct answer was : False\n",
            "\n",
            "Q12. A few ounces of chocolate can to kill a small dog.  True/ False :\ttrue\n",
            "your score is 10/ 12\n",
            "correct answer was : True\n",
            "\n",
            "quiz finished\n",
            "your final score is :   10\n"
          ]
        }
      ]
    },
    {
      "cell_type": "code",
      "metadata": {
        "colab": {
          "base_uri": "https://localhost:8080/"
        },
        "id": "lnrEzvD1LR-N",
        "outputId": "6538b007-eae7-4ea2-87f8-8088145fd0f9"
      },
      "source": [
        "print(len(quiz.question_list))"
      ],
      "execution_count": 43,
      "outputs": [
        {
          "output_type": "stream",
          "name": "stdout",
          "text": [
            "12\n"
          ]
        }
      ]
    }
  ]
}